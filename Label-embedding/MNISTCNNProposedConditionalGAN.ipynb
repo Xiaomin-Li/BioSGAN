{
 "cells": [
  {
   "cell_type": "markdown",
   "metadata": {},
   "source": [
    "### Build CNN Conditional GAN to generate synthetic cifar 10 data\n",
    "Proposed Conditional GAN label embedding: embed labels to generator, add classification head to discriminator"
   ]
  },
  {
   "cell_type": "code",
   "execution_count": 89,
   "metadata": {},
   "outputs": [],
   "source": [
    "import torch\n",
    "import torchvision\n",
    "import torch.nn as nn\n",
    "from torchvision import transforms, datasets\n",
    "from torch import optim as optim\n",
    "import torch.nn.functional as F"
   ]
  },
  {
   "cell_type": "code",
   "execution_count": 90,
   "metadata": {},
   "outputs": [
    {
     "name": "stdout",
     "output_type": "stream",
     "text": [
      "cuda\n"
     ]
    }
   ],
   "source": [
    "device = torch.device(\"cuda\" if torch.cuda.is_available() else \"cpu\")\n",
    "print(device)"
   ]
  },
  {
   "cell_type": "code",
   "execution_count": 91,
   "metadata": {},
   "outputs": [],
   "source": [
    "training_parameters = {\n",
    "    \"n_epochs\": 100,\n",
    "    \"batch_size\": 100,\n",
    "}\n",
    "data_loader = torch.utils.data.DataLoader(\n",
    "  \n",
    "datasets.MNIST('./', train=True, download=True,\n",
    "                         transform=transforms.Compose([\n",
    "                           transforms.ToTensor(),\n",
    "                           transforms.Normalize(\n",
    "                             (0.5,), (0.5,))\n",
    "                         ])),\n",
    "batch_size=training_parameters[\"batch_size\"], shuffle=True)"
   ]
  },
  {
   "cell_type": "code",
   "execution_count": 92,
   "metadata": {},
   "outputs": [
    {
     "name": "stdout",
     "output_type": "stream",
     "text": [
      "torch.Size([100, 1, 28, 28])\n"
     ]
    },
    {
     "data": {
      "image/png": "[encoded data removed]",
      "text/plain": [
       "<Figure size 432x288 with 1 Axes>"
      ]
     },
     "metadata": {
      "needs_background": "light"
     },
     "output_type": "display_data"
    }
   ],
   "source": [
    "%matplotlib inline \n",
    "from matplotlib import pyplot as plt\n",
    "\n",
    "for x,_ in data_loader:\n",
    "    print(x.shape)\n",
    "    plt.imshow(x.numpy()[0][0], cmap='gray')\n",
    "    break"
   ]
  },
  {
   "cell_type": "code",
   "execution_count": 103,
   "metadata": {},
   "outputs": [
    {
     "name": "stdout",
     "output_type": "stream",
     "text": [
      "tensor([6, 1, 3, 7, 9, 4, 3, 7, 2, 3, 1, 2, 0, 5, 0, 4, 2, 9, 6, 7, 6, 8, 6, 5,\n",
      "        2, 7, 6, 6, 4, 9, 2, 1, 2, 0, 0, 7, 5, 5, 7, 0, 0, 3, 2, 6, 6, 7, 8, 8,\n",
      "        4, 3, 3, 7, 6, 0, 7, 5, 6, 1, 0, 8, 3, 6, 4, 4, 9, 9, 9, 9, 8, 0, 8, 6,\n",
      "        7, 1, 7, 0, 3, 9, 5, 4, 5, 5, 9, 9, 4, 2, 1, 2, 6, 8, 9, 0, 9, 2, 9, 0,\n",
      "        4, 6, 0, 9])\n"
     ]
    },
    {
     "data": {
      "image/png": "[encoded data removed]",
      "text/plain": [
       "<Figure size 432x288 with 1 Axes>"
      ]
     },
     "metadata": {
      "needs_background": "light"
     },
     "output_type": "display_data"
    }
   ],
   "source": [
    "for x, label in data_loader:\n",
    "    print(label)\n",
    "    plt.imshow(x.numpy()[0][0], cmap='gray')\n",
    "    break"
   ]
  },
  {
   "cell_type": "code",
   "execution_count": 107,
   "metadata": {},
   "outputs": [
    {
     "data": {
      "image/png": "[encoded data removed]",
      "text/plain": [
       "<Figure size 1440x144 with 10 Axes>"
      ]
     },
     "metadata": {
      "needs_background": "light"
     },
     "output_type": "display_data"
    }
   ],
   "source": [
    "count = 0\n",
    "fig, axs = plt.subplots(1, 10, figsize=(20,2))\n",
    "for i, l in enumerate(label):\n",
    "    if l == count:\n",
    "        axs[count].imshow(x.numpy()[i][0], interpolation='nearest',cmap='gray')\n",
    "        count += 1\n",
    "    if count == 10:\n",
    "        break\n",
    "fig.savefig(f'mnist_real.pdf')"
   ]
  },
  {
   "cell_type": "code",
   "execution_count": 93,
   "metadata": {},
   "outputs": [
    {
     "data": {
      "text/plain": [
       "'\\nz shape torch.Size([100, 100])\\nz shape after view torch.Size([100, 128, 7, 7])\\nlabel embedding shape torch.Size([100, 10])\\nlabel embedding after l2 torch.Size([100, 49])\\nlabel embedding after view torch.Size([100, 1, 7, 7])\\nconcatenate z and label embedding torch.Size([100, 129, 7, 7])\\nafter convolution layers torch.Size([100, 1, 28, 28])\\n'"
      ]
     },
     "execution_count": 93,
     "metadata": {},
     "output_type": "execute_result"
    }
   ],
   "source": [
    "class Generator1(nn.Module):\n",
    "    def __init__(self):\n",
    "        super(Generator1, self).__init__()\n",
    "        image_size = 28\n",
    "        latent_dim = 100\n",
    "        output_channels = 1\n",
    "        self.init_size = image_size // 4\n",
    "        self.l1 = nn.Sequential(nn.Linear(latent_dim, 128 * self.init_size ** 2))\n",
    "        self.label_embedding = nn.Embedding(10, 10)\n",
    "        self.l2 = nn.Linear(10, self.init_size * self.init_size)\n",
    "\n",
    "        self.conv_blocks = nn.Sequential(\n",
    "            nn.BatchNorm2d(129),\n",
    "            nn.Upsample(scale_factor=2),\n",
    "            nn.Conv2d(129, 128, 3, stride=1, padding=1),\n",
    "            nn.BatchNorm2d(128, 0.8),\n",
    "            nn.LeakyReLU(0.2, inplace=True),\n",
    "            nn.Upsample(scale_factor=2),\n",
    "            nn.Conv2d(128, 64, 3, stride=1, padding=1),\n",
    "            nn.BatchNorm2d(64, 0.8),\n",
    "            nn.LeakyReLU(0.2, inplace=True),\n",
    "            nn.Conv2d(64, output_channels, 3, stride=1, padding=1),\n",
    "            nn.Tanh(),\n",
    "        )\n",
    "\n",
    "    def forward(self, z, labels):\n",
    "# #         print(z.shape)\n",
    "        out = self.l1(z)\n",
    "        out = out.view(out.shape[0], 128, self.init_size, self.init_size) # bh, 128, 8, 8\n",
    "# #         print(out.shape)\n",
    "        \n",
    "        li = self.label_embedding(labels)\n",
    "# #         print(li.shape)\n",
    "        li = self.l2(li)\n",
    "# #         print(li.shape)\n",
    "        li = li.view(labels.shape[0], 1, self.init_size, self.init_size)\n",
    "# #         print(li.shape)\n",
    "        out = torch.cat([out, li], 1)\n",
    "# #         print(out.shape)\n",
    "        \n",
    "        img = self.conv_blocks(out)\n",
    "# #         print(img.shape)\n",
    "        return img\n",
    "'''\n",
    "z shape torch.Size([100, 100])\n",
    "z shape after view torch.Size([100, 128, 7, 7])\n",
    "label embedding shape torch.Size([100, 10])\n",
    "label embedding after l2 torch.Size([100, 49])\n",
    "label embedding after view torch.Size([100, 1, 7, 7])\n",
    "concatenate z and label embedding torch.Size([100, 129, 7, 7])\n",
    "after convolution layers torch.Size([100, 1, 28, 28])\n",
    "'''"
   ]
  },
  {
   "cell_type": "code",
   "execution_count": 94,
   "metadata": {},
   "outputs": [
    {
     "data": {
      "text/plain": [
       "'\\nimage shape torch.Size([100, 1, 28, 28])\\nlabel embedding after l1 shape torch.Size([100, 784])\\nlabel embedding after reshape torch.Size([100, 1, 28, 28])\\nconcatenate image and label embedding torch.Size([100, 2, 28, 28])\\nfeature map size after convolution layers torch.Size([100, 128, 2, 2])\\nfeature map to dense layer torch.Size([100, 512])\\n'"
      ]
     },
     "execution_count": 94,
     "metadata": {},
     "output_type": "execute_result"
    }
   ],
   "source": [
    "class Discriminator1(nn.Module):\n",
    "    def __init__(self):\n",
    "        super(Discriminator1, self).__init__()\n",
    "        self.image_size = 28\n",
    "        self.output_channels = 1\n",
    "        def discriminator_block(in_filters, out_filters, bn=True):\n",
    "            block = [nn.Conv2d(in_filters, out_filters, 3, 2, 1), nn.LeakyReLU(0.2, inplace=True), nn.Dropout2d(0.25)]\n",
    "            if bn:\n",
    "                block.append(nn.BatchNorm2d(out_filters, 0.8))\n",
    "            return block\n",
    "\n",
    "        self.model = nn.Sequential(\n",
    "            *discriminator_block(self.output_channels, 16, bn=False),\n",
    "            *discriminator_block(16, 32),\n",
    "            *discriminator_block(32, 64),\n",
    "            *discriminator_block(64, 128),\n",
    "        )\n",
    "        # The height and width of downsampled image\n",
    "        ds_size = self.image_size // 2 ** 4\n",
    "        self.adv_layer = nn.Sequential(nn.Linear(512, 1), nn.Sigmoid())\n",
    "        self.cls_layer = nn.Linear(512, 10)\n",
    "\n",
    "    def forward(self, img):\n",
    "        \n",
    "        out = self.model(img)\n",
    "#         print(out.shape)\n",
    "        out = out.view(out.shape[0], -1)\n",
    "#         print(out.shape)\n",
    "        out_adv = self.adv_layer(out)\n",
    "        out_cls = self.cls_layer(out)\n",
    "#         print(f'out_adv.shape {out_adv.shape}')  # [100, 1]\n",
    "#         print(f'out_cls.shape {out_cls.shape}')  # [100, 10]\n",
    "#         print(validity)\n",
    "\n",
    "        return out_adv, out_cls\n",
    "\n",
    "'''\n",
    "image shape torch.Size([100, 1, 28, 28])\n",
    "label embedding after l1 shape torch.Size([100, 784])\n",
    "label embedding after reshape torch.Size([100, 1, 28, 28])\n",
    "concatenate image and label embedding torch.Size([100, 2, 28, 28])\n",
    "feature map size after convolution layers torch.Size([100, 128, 2, 2])\n",
    "feature map to dense layer torch.Size([100, 512])\n",
    "'''"
   ]
  },
  {
   "cell_type": "code",
   "execution_count": 95,
   "metadata": {},
   "outputs": [
    {
     "data": {
      "text/plain": [
       "Generator1(\n",
       "  (l1): Sequential(\n",
       "    (0): Linear(in_features=100, out_features=6272, bias=True)\n",
       "  )\n",
       "  (label_embedding): Embedding(10, 10)\n",
       "  (l2): Linear(in_features=10, out_features=49, bias=True)\n",
       "  (conv_blocks): Sequential(\n",
       "    (0): BatchNorm2d(129, eps=1e-05, momentum=0.1, affine=True, track_running_stats=True)\n",
       "    (1): Upsample(scale_factor=2.0, mode=nearest)\n",
       "    (2): Conv2d(129, 128, kernel_size=(3, 3), stride=(1, 1), padding=(1, 1))\n",
       "    (3): BatchNorm2d(128, eps=0.8, momentum=0.1, affine=True, track_running_stats=True)\n",
       "    (4): LeakyReLU(negative_slope=0.2, inplace=True)\n",
       "    (5): Upsample(scale_factor=2.0, mode=nearest)\n",
       "    (6): Conv2d(128, 64, kernel_size=(3, 3), stride=(1, 1), padding=(1, 1))\n",
       "    (7): BatchNorm2d(64, eps=0.8, momentum=0.1, affine=True, track_running_stats=True)\n",
       "    (8): LeakyReLU(negative_slope=0.2, inplace=True)\n",
       "    (9): Conv2d(64, 1, kernel_size=(3, 3), stride=(1, 1), padding=(1, 1))\n",
       "    (10): Tanh()\n",
       "  )\n",
       ")"
      ]
     },
     "execution_count": 95,
     "metadata": {},
     "output_type": "execute_result"
    }
   ],
   "source": [
    "discriminator1 = Discriminator1()\n",
    "generator1 = Generator1()\n",
    "discriminator1.to(device)\n",
    "generator1.to(device)"
   ]
  },
  {
   "cell_type": "code",
   "execution_count": 96,
   "metadata": {},
   "outputs": [],
   "source": [
    "def train(generator, discriminator, data_loader, model_name=\"cnn_stargan\"):\n",
    "    n_epochs = 100\n",
    "    batch_size = 100\n",
    "    discriminator_optimizer = optim.Adam(discriminator.parameters(), lr=0.0002)\n",
    "    generator_optimizer = optim.Adam(generator.parameters(), lr=0.0002)\n",
    "    lambda_cls = 1\n",
    "\n",
    "    adv_criterion = nn.BCELoss()\n",
    "    cls_criterion = nn.CrossEntropyLoss()\n",
    "    \n",
    "    for epoch_idx in range(n_epochs):\n",
    "        G_loss = []\n",
    "        D_loss = []\n",
    "        for batch_idx, data_input in enumerate(data_loader):\n",
    "\n",
    "\n",
    "            noise = torch.randn(batch_size,100).to(device)\n",
    "            fake_labels = torch.randint(0, 10, (batch_size,)).to(device)\n",
    "#             print(f'fake_labels shape {fake_labels.shape}') # [100]\n",
    "            generated_data = generator(noise, fake_labels)\n",
    "\n",
    "\n",
    "            # Discriminator\n",
    "            true_data = data_input[0].to(device)\n",
    "            digit_labels = data_input[1].to(device) # batch_size\n",
    "#             print(f'digit_labels shape {digit_labels.shape}') # [100]\n",
    "#             true_labels = torch.ones(batch_size).to(device)\n",
    "\n",
    "            discriminator_optimizer.zero_grad()\n",
    "\n",
    "            r_out_adv, r_out_cls = discriminator(true_data)\n",
    "            r_adv_loss = adv_criterion(r_out_adv.view(batch_size), torch.ones(batch_size).to(device))\n",
    "            r_cls_loss = cls_criterion(r_out_cls, digit_labels)\n",
    "\n",
    "            f_out_adv, f_out_cls = discriminator(generated_data.detach())\n",
    "            f_adv_loss = adv_criterion(f_out_adv.view(batch_size), torch.zeros(batch_size).to(device))\n",
    "            d_loss = r_adv_loss + f_adv_loss + lambda_cls * r_cls_loss\n",
    "\n",
    "            d_loss.backward()\n",
    "            discriminator_optimizer.step()\n",
    "\n",
    "            D_loss.append(d_loss.data.item())\n",
    "\n",
    "\n",
    "            # Generator\n",
    "\n",
    "            generator_optimizer.zero_grad()\n",
    "            # It's a choice to generate the data again\n",
    "            generated_data = generator(noise, fake_labels)\n",
    "            g_out_adv, g_out_cls = discriminator(generated_data)\n",
    "            g_adv_loss = adv_criterion(g_out_adv.view(batch_size), torch.ones(batch_size).to(device))\n",
    "            g_cls_loss = cls_criterion(g_out_cls, fake_labels)\n",
    "            g_loss = g_adv_loss + lambda_cls * g_cls_loss\n",
    "            g_loss.backward()\n",
    "            generator_optimizer.step()\n",
    "            \n",
    "            G_loss.append(g_loss.data.item())\n",
    "            \n",
    "            \n",
    "            if ((batch_idx + 1)% 500 == 0 and (epoch_idx + 1)%10 == 0):\n",
    "                print(\"Training Steps Completed: \", batch_idx)\n",
    "\n",
    "                with torch.no_grad():\n",
    "                    noise = torch.randn(batch_size,100).to(device)\n",
    "                    fake_labels = torch.randint(0, 10, (batch_size,)).to(device)\n",
    "                    generated_data = generator(noise, fake_labels).cpu().view(batch_size, 28, 28)\n",
    "                    for x in generated_data:\n",
    "                        print(fake_labels[0].item())\n",
    "                        plt.imshow(x.detach().numpy(), interpolation='nearest',cmap='gray')\n",
    "                        plt.show()\n",
    "                        break\n",
    "\n",
    "\n",
    "        print('[%d/%d]: loss_d: %.3f, loss_g: %.3f' % (\n",
    "                (epoch_idx), n_epochs, torch.mean(torch.FloatTensor(D_loss)), torch.mean(torch.FloatTensor(G_loss))))\n",
    "        torch.save(generator, f'./{model_name}.pt')"
   ]
  },
  {
   "cell_type": "code",
   "execution_count": 97,
   "metadata": {},
   "outputs": [
    {
     "name": "stdout",
     "output_type": "stream",
     "text": [
      "[0/100]: loss_d: 1.974, loss_g: 2.102\n",
      "[1/100]: loss_d: 1.426, loss_g: 1.427\n",
      "[2/100]: loss_d: 1.386, loss_g: 1.283\n",
      "[3/100]: loss_d: 1.297, loss_g: 1.296\n",
      "[4/100]: loss_d: 1.268, loss_g: 1.275\n",
      "[5/100]: loss_d: 1.269, loss_g: 1.225\n",
      "[6/100]: loss_d: 1.279, loss_g: 1.144\n",
      "[7/100]: loss_d: 1.307, loss_g: 1.105\n",
      "[8/100]: loss_d: 1.326, loss_g: 1.087\n",
      "Training Steps Completed:  499\n",
      "1\n"
     ]
    },
    {
     "data": {
      "image/png": "[encoded data removed]",
      "text/plain": [
       "<Figure size 432x288 with 1 Axes>"
      ]
     },
     "metadata": {
      "needs_background": "light"
     },
     "output_type": "display_data"
    },
    {
     "name": "stdout",
     "output_type": "stream",
     "text": [
      "[9/100]: loss_d: 1.335, loss_g: 1.048\n",
      "[10/100]: loss_d: 1.353, loss_g: 1.024\n",
      "[11/100]: loss_d: 1.344, loss_g: 0.995\n",
      "[12/100]: loss_d: 1.363, loss_g: 0.987\n",
      "[13/100]: loss_d: 1.372, loss_g: 0.973\n",
      "[14/100]: loss_d: 1.368, loss_g: 0.951\n",
      "[15/100]: loss_d: 1.388, loss_g: 0.933\n",
      "[16/100]: loss_d: 1.380, loss_g: 0.917\n",
      "[17/100]: loss_d: 1.384, loss_g: 0.910\n",
      "[18/100]: loss_d: 1.384, loss_g: 0.909\n",
      "Training Steps Completed:  499\n",
      "2\n"
     ]
    },
    {
     "data": {
      "image/png": "[encoded data removed]",
      "text/plain": [
       "<Figure size 432x288 with 1 Axes>"
      ]
     },
     "metadata": {
      "needs_background": "light"
     },
     "output_type": "display_data"
    },
    {
     "name": "stdout",
     "output_type": "stream",
     "text": [
      "[19/100]: loss_d: 1.379, loss_g: 0.920\n",
      "[20/100]: loss_d: 1.382, loss_g: 0.898\n",
      "[21/100]: loss_d: 1.383, loss_g: 0.878\n",
      "[22/100]: loss_d: 1.398, loss_g: 0.888\n",
      "[23/100]: loss_d: 1.393, loss_g: 0.886\n",
      "[24/100]: loss_d: 1.389, loss_g: 0.877\n",
      "[25/100]: loss_d: 1.411, loss_g: 0.866\n",
      "[26/100]: loss_d: 1.397, loss_g: 0.861\n",
      "[27/100]: loss_d: 1.404, loss_g: 0.850\n",
      "[28/100]: loss_d: 1.406, loss_g: 0.842\n",
      "Training Steps Completed:  499\n",
      "5\n"
     ]
    },
    {
     "data": {
      "image/png": "[encoded data removed]",
      "text/plain": [
       "<Figure size 432x288 with 1 Axes>"
      ]
     },
     "metadata": {
      "needs_background": "light"
     },
     "output_type": "display_data"
    },
    {
     "name": "stdout",
     "output_type": "stream",
     "text": [
      "[29/100]: loss_d: 1.390, loss_g: 0.852\n",
      "[30/100]: loss_d: 1.398, loss_g: 0.856\n",
      "[31/100]: loss_d: 1.398, loss_g: 0.859\n",
      "[32/100]: loss_d: 1.407, loss_g: 0.848\n",
      "[33/100]: loss_d: 1.378, loss_g: 0.854\n",
      "[34/100]: loss_d: 1.401, loss_g: 0.844\n",
      "[35/100]: loss_d: 1.378, loss_g: 0.847\n",
      "[36/100]: loss_d: 1.394, loss_g: 0.862\n",
      "[37/100]: loss_d: 1.397, loss_g: 0.858\n",
      "[38/100]: loss_d: 1.395, loss_g: 0.834\n",
      "Training Steps Completed:  499\n",
      "6\n"
     ]
    },
    {
     "data": {
      "image/png": "[encoded data removed]",
      "text/plain": [
       "<Figure size 432x288 with 1 Axes>"
      ]
     },
     "metadata": {
      "needs_background": "light"
     },
     "output_type": "display_data"
    },
    {
     "name": "stdout",
     "output_type": "stream",
     "text": [
      "[39/100]: loss_d: 1.374, loss_g: 0.851\n",
      "[40/100]: loss_d: 1.358, loss_g: 0.847\n",
      "[41/100]: loss_d: 1.381, loss_g: 0.863\n",
      "[42/100]: loss_d: 1.382, loss_g: 0.851\n",
      "[43/100]: loss_d: 1.383, loss_g: 0.844\n",
      "[44/100]: loss_d: 1.366, loss_g: 0.853\n",
      "[45/100]: loss_d: 1.385, loss_g: 0.855\n",
      "[46/100]: loss_d: 1.373, loss_g: 0.849\n",
      "[47/100]: loss_d: 1.376, loss_g: 0.848\n",
      "[48/100]: loss_d: 1.375, loss_g: 0.846\n",
      "Training Steps Completed:  499\n",
      "0\n"
     ]
    },
    {
     "data": {
      "image/png": "[encoded data removed]",
      "text/plain": [
       "<Figure size 432x288 with 1 Axes>"
      ]
     },
     "metadata": {
      "needs_background": "light"
     },
     "output_type": "display_data"
    },
    {
     "name": "stdout",
     "output_type": "stream",
     "text": [
      "[49/100]: loss_d: 1.368, loss_g: 0.854\n",
      "[50/100]: loss_d: 1.364, loss_g: 0.862\n",
      "[51/100]: loss_d: 1.356, loss_g: 0.859\n",
      "[52/100]: loss_d: 1.373, loss_g: 0.852\n",
      "[53/100]: loss_d: 1.379, loss_g: 0.851\n",
      "[54/100]: loss_d: 1.372, loss_g: 0.854\n",
      "[55/100]: loss_d: 1.363, loss_g: 0.833\n",
      "[56/100]: loss_d: 1.346, loss_g: 0.860\n",
      "[57/100]: loss_d: 1.362, loss_g: 0.872\n",
      "[58/100]: loss_d: 1.349, loss_g: 0.874\n",
      "Training Steps Completed:  499\n",
      "8\n"
     ]
    },
    {
     "data": {
      "image/png": "[encoded data removed]",
      "text/plain": [
       "<Figure size 432x288 with 1 Axes>"
      ]
     },
     "metadata": {
      "needs_background": "light"
     },
     "output_type": "display_data"
    },
    {
     "name": "stdout",
     "output_type": "stream",
     "text": [
      "[59/100]: loss_d: 1.355, loss_g: 0.865\n",
      "[60/100]: loss_d: 1.342, loss_g: 0.875\n",
      "[61/100]: loss_d: 1.354, loss_g: 0.875\n",
      "[62/100]: loss_d: 1.358, loss_g: 0.868\n",
      "[63/100]: loss_d: 1.355, loss_g: 0.871\n",
      "[64/100]: loss_d: 1.340, loss_g: 0.879\n",
      "[65/100]: loss_d: 1.339, loss_g: 0.884\n",
      "[66/100]: loss_d: 1.346, loss_g: 0.873\n",
      "[67/100]: loss_d: 1.340, loss_g: 0.878\n",
      "[68/100]: loss_d: 1.335, loss_g: 0.878\n",
      "Training Steps Completed:  499\n",
      "0\n"
     ]
    },
    {
     "data": {
      "image/png": "[encoded data removed]",
      "text/plain": [
       "<Figure size 432x288 with 1 Axes>"
      ]
     },
     "metadata": {
      "needs_background": "light"
     },
     "output_type": "display_data"
    },
    {
     "name": "stdout",
     "output_type": "stream",
     "text": [
      "[69/100]: loss_d: 1.340, loss_g: 0.897\n",
      "[70/100]: loss_d: 1.349, loss_g: 0.877\n",
      "[71/100]: loss_d: 1.330, loss_g: 0.897\n",
      "[72/100]: loss_d: 1.327, loss_g: 0.879\n",
      "[73/100]: loss_d: 1.328, loss_g: 0.880\n",
      "[74/100]: loss_d: 1.322, loss_g: 0.890\n",
      "[75/100]: loss_d: 1.349, loss_g: 0.905\n",
      "[76/100]: loss_d: 1.308, loss_g: 0.901\n",
      "[77/100]: loss_d: 1.308, loss_g: 0.895\n",
      "[78/100]: loss_d: 1.326, loss_g: 0.912\n",
      "Training Steps Completed:  499\n",
      "6\n"
     ]
    },
    {
     "data": {
      "image/png": "[encoded data removed]",
      "text/plain": [
       "<Figure size 432x288 with 1 Axes>"
      ]
     },
     "metadata": {
      "needs_background": "light"
     },
     "output_type": "display_data"
    },
    {
     "name": "stdout",
     "output_type": "stream",
     "text": [
      "[79/100]: loss_d: 1.329, loss_g: 0.918\n",
      "[80/100]: loss_d: 1.305, loss_g: 0.902\n",
      "[81/100]: loss_d: 1.305, loss_g: 0.915\n",
      "[82/100]: loss_d: 1.305, loss_g: 0.909\n",
      "[83/100]: loss_d: 1.298, loss_g: 0.932\n",
      "[84/100]: loss_d: 1.315, loss_g: 0.920\n",
      "[85/100]: loss_d: 1.289, loss_g: 0.929\n",
      "[86/100]: loss_d: 1.314, loss_g: 0.913\n",
      "[87/100]: loss_d: 1.295, loss_g: 0.927\n",
      "[88/100]: loss_d: 1.299, loss_g: 0.931\n",
      "Training Steps Completed:  499\n",
      "5\n"
     ]
    },
    {
     "data": {
      "image/png": "[encoded data removed]",
      "text/plain": [
       "<Figure size 432x288 with 1 Axes>"
      ]
     },
     "metadata": {
      "needs_background": "light"
     },
     "output_type": "display_data"
    },
    {
     "name": "stdout",
     "output_type": "stream",
     "text": [
      "[89/100]: loss_d: 1.296, loss_g: 0.968\n",
      "[90/100]: loss_d: 1.308, loss_g: 0.929\n",
      "[91/100]: loss_d: 1.291, loss_g: 0.955\n",
      "[92/100]: loss_d: 1.297, loss_g: 0.966\n",
      "[93/100]: loss_d: 1.295, loss_g: 0.957\n",
      "[94/100]: loss_d: 1.280, loss_g: 0.967\n",
      "[95/100]: loss_d: 1.286, loss_g: 0.951\n",
      "[96/100]: loss_d: 1.280, loss_g: 0.942\n",
      "[97/100]: loss_d: 1.267, loss_g: 0.946\n",
      "[98/100]: loss_d: 1.288, loss_g: 0.974\n",
      "Training Steps Completed:  499\n",
      "0\n"
     ]
    },
    {
     "data": {
      "image/png": "[encoded data removed]",
      "text/plain": [
       "<Figure size 432x288 with 1 Axes>"
      ]
     },
     "metadata": {
      "needs_background": "light"
     },
     "output_type": "display_data"
    },
    {
     "name": "stdout",
     "output_type": "stream",
     "text": [
      "[99/100]: loss_d: 1.273, loss_g: 0.962\n"
     ]
    }
   ],
   "source": [
    "train(generator1, discriminator1, data_loader)"
   ]
  },
  {
   "cell_type": "code",
   "execution_count": 98,
   "metadata": {},
   "outputs": [
    {
     "name": "stdout",
     "output_type": "stream",
     "text": [
      "1\n"
     ]
    },
    {
     "data": {
      "image/png": "[encoded data removed]",
      "text/plain": [
       "<Figure size 432x288 with 1 Axes>"
      ]
     },
     "metadata": {
      "needs_background": "light"
     },
     "output_type": "display_data"
    },
    {
     "name": "stdout",
     "output_type": "stream",
     "text": [
      "3\n"
     ]
    },
    {
     "data": {
      "image/png": "[encoded data removed]",
      "text/plain": [
       "<Figure size 432x288 with 1 Axes>"
      ]
     },
     "metadata": {
      "needs_background": "light"
     },
     "output_type": "display_data"
    },
    {
     "name": "stdout",
     "output_type": "stream",
     "text": [
      "0\n"
     ]
    },
    {
     "data": {
      "image/png": "[encoded data removed]",
      "text/plain": [
       "<Figure size 432x288 with 1 Axes>"
      ]
     },
     "metadata": {
      "needs_background": "light"
     },
     "output_type": "display_data"
    },
    {
     "name": "stdout",
     "output_type": "stream",
     "text": [
      "8\n"
     ]
    },
    {
     "data": {
      "image/png": "[encoded data removed]",
      "text/plain": [
       "<Figure size 432x288 with 1 Axes>"
      ]
     },
     "metadata": {
      "needs_background": "light"
     },
     "output_type": "display_data"
    },
    {
     "name": "stdout",
     "output_type": "stream",
     "text": [
      "3\n"
     ]
    },
    {
     "data": {
      "image/png": "[encoded data removed]",
      "text/plain": [
       "<Figure size 432x288 with 1 Axes>"
      ]
     },
     "metadata": {
      "needs_background": "light"
     },
     "output_type": "display_data"
    },
    {
     "name": "stdout",
     "output_type": "stream",
     "text": [
      "0\n"
     ]
    },
    {
     "data": {
      "image/png": "[encoded data removed]",
      "text/plain": [
       "<Figure size 432x288 with 1 Axes>"
      ]
     },
     "metadata": {
      "needs_background": "light"
     },
     "output_type": "display_data"
    },
    {
     "name": "stdout",
     "output_type": "stream",
     "text": [
      "5\n"
     ]
    },
    {
     "data": {
      "image/png": "[encoded data removed]",
      "text/plain": [
       "<Figure size 432x288 with 1 Axes>"
      ]
     },
     "metadata": {
      "needs_background": "light"
     },
     "output_type": "display_data"
    },
    {
     "name": "stdout",
     "output_type": "stream",
     "text": [
      "0\n"
     ]
    },
    {
     "data": {
      "image/png": "[encoded data removed]",
      "text/plain": [
       "<Figure size 432x288 with 1 Axes>"
      ]
     },
     "metadata": {
      "needs_background": "light"
     },
     "output_type": "display_data"
    },
    {
     "name": "stdout",
     "output_type": "stream",
     "text": [
      "2\n"
     ]
    },
    {
     "data": {
      "image/png": "[encoded data removed]",
      "text/plain": [
       "<Figure size 432x288 with 1 Axes>"
      ]
     },
     "metadata": {
      "needs_background": "light"
     },
     "output_type": "display_data"
    },
    {
     "name": "stdout",
     "output_type": "stream",
     "text": [
      "0\n"
     ]
    },
    {
     "data": {
      "image/png": "[encoded data removed]",
      "text/plain": [
       "<Figure size 432x288 with 1 Axes>"
      ]
     },
     "metadata": {
      "needs_background": "light"
     },
     "output_type": "display_data"
    }
   ],
   "source": [
    "with torch.no_grad():\n",
    "    noise = torch.randn(10,100).to(device)\n",
    "    fake_labels = torch.randint(0, 10, (10,)).to(device)\n",
    "    generated_data = generator1(noise, fake_labels).cpu().view(10, 28, 28)\n",
    "    for i, x in enumerate(generated_data):\n",
    "        print(fake_labels[i].item())\n",
    "        plt.imshow(x.detach().numpy(), interpolation='nearest',cmap='gray')\n",
    "        plt.show()"
   ]
  },
  {
   "cell_type": "code",
   "execution_count": 99,
   "metadata": {},
   "outputs": [],
   "source": [
    "#load model and generate 0 - 9 images\n",
    "def draw_images(model_name):\n",
    "    generator = torch.load(model_name)\n",
    "    with torch.no_grad():\n",
    "        noise = torch.randn(10,100).to(device)\n",
    "        labels = torch.IntTensor([0, 1, 2, 3, 4, 5, 6, 7, 8, 9]).to(device)\n",
    "#         labels = torch.range(0, 9)\n",
    "        generated_data = generator(noise, labels).cpu().view(10, 28, 28)\n",
    "\n",
    "    fig, axs = plt.subplots(1, 10, figsize=(20,2))\n",
    "    for i in range(10):\n",
    "        axs[i].imshow(generated_data[i].detach().numpy(), interpolation='nearest',cmap='gray')\n",
    "    fig.savefig(f'{model_name}_syn.pdf')"
   ]
  },
  {
   "cell_type": "code",
   "execution_count": 100,
   "metadata": {},
   "outputs": [
    {
     "data": {
      "image/png": "[encoded data removed]",
      "text/plain": [
       "<Figure size 1440x144 with 10 Axes>"
      ]
     },
     "metadata": {
      "needs_background": "light"
     },
     "output_type": "display_data"
    }
   ],
   "source": [
    "draw_images('cnn_cgan.pt')"
   ]
  }
 ],
 "metadata": {
  "interpreter": {
   "hash": "31f2aee4e71d21fbe5cf8b01ff0e069b9275f58929596ceb00d14d90e3e16cd6"
  },
  "kernelspec": {
   "display_name": "Python 3.6.9 64-bit",
   "language": "python",
   "name": "python3"
  },
  "language_info": {
   "codemirror_mode": {
    "name": "ipython",
    "version": 3
   },
   "file_extension": ".py",
   "mimetype": "text/x-python",
   "name": "python",
   "nbconvert_exporter": "python",
   "pygments_lexer": "ipython3",
   "version": "3.8.9"
  }
 },
 "nbformat": 4,
 "nbformat_minor": 4
}
